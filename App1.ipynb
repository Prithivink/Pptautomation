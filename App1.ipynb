{
 "cells": [
  {
   "cell_type": "code",
   "execution_count": 7,
   "id": "6fd12662",
   "metadata": {},
   "outputs": [],
   "source": [
    "import pyautogui as pg"
   ]
  },
  {
   "cell_type": "code",
   "execution_count": 8,
   "id": "117dbdf8",
   "metadata": {},
   "outputs": [],
   "source": [
    "mat_list = [\"183358\",\"83715\",\"1997\",\"1996\"]\n",
    "f = open(r\"F:\\gui\\test_mat.txt\", \"r\")\n",
    "text_file = (f.read())"
   ]
  },
  {
   "cell_type": "code",
   "execution_count": 9,
   "id": "360519e9",
   "metadata": {},
   "outputs": [],
   "source": [
    "text_file_replaced = text_file.replace(';',' ')"
   ]
  },
  {
   "cell_type": "code",
   "execution_count": 10,
   "id": "fa26d048",
   "metadata": {},
   "outputs": [],
   "source": [
    "text_file_split = text_file_replaced.split(\" \")"
   ]
  },
  {
   "cell_type": "code",
   "execution_count": 11,
   "id": "1b8bc650",
   "metadata": {},
   "outputs": [],
   "source": [
    "keys = []\n",
    "for i in mat_list:\n",
    "    for j in text_file_split:\n",
    "        if(i==j):\n",
    "            keys.append(i)\n",
    "        else:\n",
    "            pass"
   ]
  },
  {
   "cell_type": "code",
   "execution_count": 12,
   "id": "455a1bec",
   "metadata": {},
   "outputs": [
    {
     "data": {
      "text/plain": [
       "['183358', '83715']"
      ]
     },
     "execution_count": 12,
     "metadata": {},
     "output_type": "execute_result"
    }
   ],
   "source": [
    "keys"
   ]
  },
  {
   "cell_type": "code",
   "execution_count": 13,
   "id": "4e0c467c",
   "metadata": {},
   "outputs": [],
   "source": [
    "pg.keyDown('win')\n",
    "pg.keyDown('r')\n",
    "pg.PAUSE = 2\n",
    "pg.keyUp('r')\n",
    "pg.keyUp('win')\n",
    "pg.PAUSE = 2\n",
    "pg.hotkey('enter')\n",
    "pg.PAUSE = 2\n",
    "pg.hotkey('enter')\n",
    "pg.PAUSE = 2\n",
    "pg.hotkey('enter')\n",
    "pg.PAUSE = 2\n",
    "for i in keys:\n",
    "    insert_point = pg.locateCenterOnScreen('view_button.png')\n",
    "    pg.click(x=insert_point[0], y=insert_point[1], clicks=1, interval=0, button='left')\n",
    "    pg.PAUSE = 1\n",
    "    pic_point = pg.locateCenterOnScreen('pic_button.png')\n",
    "    pg.click(x=pic_point[0], y=pic_point[1], clicks=1, interval=0, button='left')\n",
    "    pg.PAUSE = 2\n",
    "    pg.typewrite(i)\n",
    "    pg.PAUSE = 2\n",
    "    pg.hotkey('enter')"
   ]
  },
  {
   "cell_type": "code",
   "execution_count": null,
   "id": "65402e2d",
   "metadata": {},
   "outputs": [],
   "source": []
  }
 ],
 "metadata": {
  "kernelspec": {
   "display_name": "Python 3",
   "language": "python",
   "name": "python3"
  },
  "language_info": {
   "codemirror_mode": {
    "name": "ipython",
    "version": 3
   },
   "file_extension": ".py",
   "mimetype": "text/x-python",
   "name": "python",
   "nbconvert_exporter": "python",
   "pygments_lexer": "ipython3",
   "version": "3.8.8"
  }
 },
 "nbformat": 4,
 "nbformat_minor": 5
}
